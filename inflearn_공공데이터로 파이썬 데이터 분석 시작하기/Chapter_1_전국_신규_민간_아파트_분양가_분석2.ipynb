{
  "nbformat": 4,
  "nbformat_minor": 0,
  "metadata": {
    "colab": {
      "name": "Chapter_1 전국 신규 민간 아파트 분양가 분석",
      "provenance": [],
      "collapsed_sections": [],
      "toc_visible": true,
      "mount_file_id": "11e-ygACOHP83N0muC-H0WDqvYKFe3q4s",
      "authorship_tag": "ABX9TyPUvM08i6P2BWjhZA9KhAt3",
      "include_colab_link": true
    },
    "kernelspec": {
      "name": "python3",
      "display_name": "Python 3"
    },
    "language_info": {
      "name": "python"
    }
  },
  "cells": [
    {
      "cell_type": "markdown",
      "metadata": {
        "id": "view-in-github",
        "colab_type": "text"
      },
      "source": [
        "<a href=\"https://colab.research.google.com/github/NeoGuRi95/Data-Analytics/blob/main/inflearn_%EA%B3%B5%EA%B3%B5%EB%8D%B0%EC%9D%B4%ED%84%B0%EB%A1%9C%20%ED%8C%8C%EC%9D%B4%EC%8D%AC%20%EB%8D%B0%EC%9D%B4%ED%84%B0%20%EB%B6%84%EC%84%9D%20%EC%8B%9C%EC%9E%91%ED%95%98%EA%B8%B0/Chapter_1_%EC%A0%84%EA%B5%AD_%EC%8B%A0%EA%B7%9C_%EB%AF%BC%EA%B0%84_%EC%95%84%ED%8C%8C%ED%8A%B8_%EB%B6%84%EC%96%91%EA%B0%80_%EB%B6%84%EC%84%9D2.ipynb\" target=\"_parent\"><img src=\"https://colab.research.google.com/assets/colab-badge.svg\" alt=\"Open In Colab\"/></a>"
      ]
    },
    {
      "cell_type": "code",
      "metadata": {
        "id": "edWw_kpnbAJJ",
        "colab": {
          "base_uri": "https://localhost:8080/"
        },
        "outputId": "3d34725c-7118-4998-c183-2ded8519ca3e"
      },
      "source": [
        "# 구글 드라이브 연동 방법\n",
        "from google.colab import drive\n",
        "drive.mount('/content/gdrive/')"
      ],
      "execution_count": null,
      "outputs": [
        {
          "output_type": "stream",
          "name": "stdout",
          "text": [
            "Mounted at /content/gdrive/\n"
          ]
        }
      ]
    },
    {
      "cell_type": "code",
      "metadata": {
        "id": "4WmmMtN-k6RN"
      },
      "source": [
        "# 파일 쓰기 \n",
        "# with open('/content/gdrive/My Drive/Colab Notebooks/hello.txt', 'w') as f: \n",
        "#   f.write('Hello Google Drive colab !') \n",
        "\n",
        "# !cat /content/gdrive/My\\ Drive/Colab Notebooks/hello.txt"
      ],
      "execution_count": null,
      "outputs": []
    },
    {
      "cell_type": "markdown",
      "metadata": {
        "id": "GjkPjM_Ggj21"
      },
      "source": [
        "# 전국 신규 미간 아파트 분양가격 동향\n",
        "2013년부터 최근까지 부동산 가격 변동 추세가 아파트 분양가에도 반영될까요? 공공데이터 포털에 있는 데이터를 Pandas 의 melt, concat, pivot, transpose 와 같은 reshape 기능을 활용해 분석해 봅니다. 그리고 groupby, pivot_table, info, describe, value_counts 등을 통한 데이터 요약과 분석을 해봅니다. 이를 통해 전혀 다른 형태의 두 데이터를 가져와 정제하고 병합하는 과정을 다루는 방법을 알게 됩니다. 전처리 한 결과에 대해 수치형, 범주형 데이터의 차이를 이해하고 다양한 그래프로 시각화를 할 수 있게 됩니다.\n",
        "\n",
        "## 다루는 내용\n",
        "* 공공데이터를 활용해 전혀 다른 두 개의 데이터를 가져와서 전처리 하고 병합하기\n",
        "* 수치형 데이터와 범주형 데이터를 바라보는 시각을 기르기\n",
        "* 데이터의 형식에 따른 다양한 시각화 방법 이해하기\n",
        "\n",
        "## 실습\n",
        "* 공공데이터 다운로드 후 주피터 노트북으로 로드하기\n",
        "* 판다스를 통해 데이터를 요약하고 분석하기\n",
        "* 데이터 전처리와 병합하기\n",
        "* 수치형 데이터와 범주형 데이터 다루기\n",
        "* 막대그래프(bar plot), 선그래프(line plot), 산포도(scatter plot), 상관관계(lm plot), 히트맵, 상자수염그림, swarm plot, 도수분포표, 히스토그램(distplot) 실습하기\n",
        "\n",
        "## 데이터셋\n",
        "* 다운로드 위치 : https://www.data.go.kr/dataset/3035522/fileData.do\n",
        "\n",
        "## 전국 평균 분양가격(2013년 9월부터 2015년 8월까지)\n",
        "* 전국 공동주택의 3.3제곱미터당 평균분양가격 데이터를 제공\n",
        "\n",
        "## 주택도시보증공사_전국 평균 분양가격(2019년 12월)\n",
        "* 전국 공동주택의 연도별, 월별, 전용면적별 제곱미터당 평균분양가격 데이터를 제공\n",
        "* 지역별 평균값은 단순 산술평균값이 아닌 가중평균값임"
      ]
    },
    {
      "cell_type": "code",
      "metadata": {
        "id": "agG9mhQPlf9a"
      },
      "source": [
        "import pandas as pd"
      ],
      "execution_count": null,
      "outputs": []
    },
    {
      "cell_type": "markdown",
      "metadata": {
        "id": "GuP6a2hujhY-"
      },
      "source": [
        "## 데이터 전처리"
      ]
    },
    {
      "cell_type": "markdown",
      "metadata": {
        "id": "9eGCpW-Zhr26"
      },
      "source": [
        "### 데이터 로드\n",
        "#### 최근 파일 로드\n",
        "공공데이터 포털에서 \"주택도시보증공사_전국 평균 분양가격\"파일을 다운로드 받아 불러옵니다. 이 때, 인코딩을 설정을 해주어야 한글이 깨지지 않습니다. 보통 엑셀로 저장된 한글의 인코딩은 cp949 혹은 euc-kr로 되어 있습니다. df_last 라는 변수에 최근 분양가 파일을 다운로드 받아 로드합니다.\n",
        "\n",
        "데이터를 로드한 뒤 shape를 통해 행과 열의 갯수를 출력합니다."
      ]
    },
    {
      "cell_type": "code",
      "metadata": {
        "colab": {
          "base_uri": "https://localhost:8080/"
        },
        "id": "inZmJv0hYUX1",
        "outputId": "29fecee1-21c5-44d1-d530-997db8453621"
      },
      "source": [
        "# 최근 분양가 파일을 로드해서 df_last 라는 변수에 담습니다.\n",
        "# 파일로드시 OSError가 발생한다면, engine=\"python\"을 추가해 보세요.\n",
        "# 2015년 8월 ~ 2019년 12월 까지 데이터 로드\n",
        "df_last = pd.read_csv('/content/gdrive/My Drive/Colab Notebooks/inflearn_공공데이터로 파이썬 데이터 분석 시작하기/전국신규민간아파트분양가격동향/주택도시보증공사_전국 평균 분양가격(2019년 12월).csv', encoding='cp949')\n",
        "df_last.shape"
      ],
      "execution_count": null,
      "outputs": [
        {
          "output_type": "execute_result",
          "data": {
            "text/plain": [
              "(4335, 5)"
            ]
          },
          "metadata": {},
          "execution_count": 8
        }
      ]
    },
    {
      "cell_type": "code",
      "metadata": {
        "colab": {
          "base_uri": "https://localhost:8080/",
          "height": 363
        },
        "id": "3EVOa21KY60w",
        "outputId": "a46cc99b-e223-46c2-8168-e2fccdcfcb76"
      },
      "source": [
        " df_last.head(10)"
      ],
      "execution_count": null,
      "outputs": [
        {
          "output_type": "execute_result",
          "data": {
            "text/html": [
              "<div>\n",
              "<style scoped>\n",
              "    .dataframe tbody tr th:only-of-type {\n",
              "        vertical-align: middle;\n",
              "    }\n",
              "\n",
              "    .dataframe tbody tr th {\n",
              "        vertical-align: top;\n",
              "    }\n",
              "\n",
              "    .dataframe thead th {\n",
              "        text-align: right;\n",
              "    }\n",
              "</style>\n",
              "<table border=\"1\" class=\"dataframe\">\n",
              "  <thead>\n",
              "    <tr style=\"text-align: right;\">\n",
              "      <th></th>\n",
              "      <th>지역명</th>\n",
              "      <th>규모구분</th>\n",
              "      <th>연도</th>\n",
              "      <th>월</th>\n",
              "      <th>분양가격(㎡)</th>\n",
              "    </tr>\n",
              "  </thead>\n",
              "  <tbody>\n",
              "    <tr>\n",
              "      <th>0</th>\n",
              "      <td>서울</td>\n",
              "      <td>전체</td>\n",
              "      <td>2015</td>\n",
              "      <td>10</td>\n",
              "      <td>5841</td>\n",
              "    </tr>\n",
              "    <tr>\n",
              "      <th>1</th>\n",
              "      <td>서울</td>\n",
              "      <td>전용면적 60㎡이하</td>\n",
              "      <td>2015</td>\n",
              "      <td>10</td>\n",
              "      <td>5652</td>\n",
              "    </tr>\n",
              "    <tr>\n",
              "      <th>2</th>\n",
              "      <td>서울</td>\n",
              "      <td>전용면적 60㎡초과 85㎡이하</td>\n",
              "      <td>2015</td>\n",
              "      <td>10</td>\n",
              "      <td>5882</td>\n",
              "    </tr>\n",
              "    <tr>\n",
              "      <th>3</th>\n",
              "      <td>서울</td>\n",
              "      <td>전용면적 85㎡초과 102㎡이하</td>\n",
              "      <td>2015</td>\n",
              "      <td>10</td>\n",
              "      <td>5721</td>\n",
              "    </tr>\n",
              "    <tr>\n",
              "      <th>4</th>\n",
              "      <td>서울</td>\n",
              "      <td>전용면적 102㎡초과</td>\n",
              "      <td>2015</td>\n",
              "      <td>10</td>\n",
              "      <td>5879</td>\n",
              "    </tr>\n",
              "    <tr>\n",
              "      <th>5</th>\n",
              "      <td>인천</td>\n",
              "      <td>전체</td>\n",
              "      <td>2015</td>\n",
              "      <td>10</td>\n",
              "      <td>3163</td>\n",
              "    </tr>\n",
              "    <tr>\n",
              "      <th>6</th>\n",
              "      <td>인천</td>\n",
              "      <td>전용면적 60㎡이하</td>\n",
              "      <td>2015</td>\n",
              "      <td>10</td>\n",
              "      <td>3488</td>\n",
              "    </tr>\n",
              "    <tr>\n",
              "      <th>7</th>\n",
              "      <td>인천</td>\n",
              "      <td>전용면적 60㎡초과 85㎡이하</td>\n",
              "      <td>2015</td>\n",
              "      <td>10</td>\n",
              "      <td>3119</td>\n",
              "    </tr>\n",
              "    <tr>\n",
              "      <th>8</th>\n",
              "      <td>인천</td>\n",
              "      <td>전용면적 85㎡초과 102㎡이하</td>\n",
              "      <td>2015</td>\n",
              "      <td>10</td>\n",
              "      <td>3545</td>\n",
              "    </tr>\n",
              "    <tr>\n",
              "      <th>9</th>\n",
              "      <td>인천</td>\n",
              "      <td>전용면적 102㎡초과</td>\n",
              "      <td>2015</td>\n",
              "      <td>10</td>\n",
              "      <td>3408</td>\n",
              "    </tr>\n",
              "  </tbody>\n",
              "</table>\n",
              "</div>"
            ],
            "text/plain": [
              "  지역명               규모구분    연도   월 분양가격(㎡)\n",
              "0  서울                 전체  2015  10    5841\n",
              "1  서울         전용면적 60㎡이하  2015  10    5652\n",
              "2  서울   전용면적 60㎡초과 85㎡이하  2015  10    5882\n",
              "3  서울  전용면적 85㎡초과 102㎡이하  2015  10    5721\n",
              "4  서울        전용면적 102㎡초과  2015  10    5879\n",
              "5  인천                 전체  2015  10    3163\n",
              "6  인천         전용면적 60㎡이하  2015  10    3488\n",
              "7  인천   전용면적 60㎡초과 85㎡이하  2015  10    3119\n",
              "8  인천  전용면적 85㎡초과 102㎡이하  2015  10    3545\n",
              "9  인천        전용면적 102㎡초과  2015  10    3408"
            ]
          },
          "metadata": {},
          "execution_count": 12
        }
      ]
    },
    {
      "cell_type": "code",
      "metadata": {
        "colab": {
          "base_uri": "https://localhost:8080/",
          "height": 206
        },
        "id": "Jr5IEqr-asd_",
        "outputId": "4e8c76d2-87e0-4fdb-9061-701f98d7e0e9"
      },
      "source": [
        "df_last.tail()"
      ],
      "execution_count": null,
      "outputs": [
        {
          "output_type": "execute_result",
          "data": {
            "text/html": [
              "<div>\n",
              "<style scoped>\n",
              "    .dataframe tbody tr th:only-of-type {\n",
              "        vertical-align: middle;\n",
              "    }\n",
              "\n",
              "    .dataframe tbody tr th {\n",
              "        vertical-align: top;\n",
              "    }\n",
              "\n",
              "    .dataframe thead th {\n",
              "        text-align: right;\n",
              "    }\n",
              "</style>\n",
              "<table border=\"1\" class=\"dataframe\">\n",
              "  <thead>\n",
              "    <tr style=\"text-align: right;\">\n",
              "      <th></th>\n",
              "      <th>지역명</th>\n",
              "      <th>규모구분</th>\n",
              "      <th>연도</th>\n",
              "      <th>월</th>\n",
              "      <th>분양가격(㎡)</th>\n",
              "    </tr>\n",
              "  </thead>\n",
              "  <tbody>\n",
              "    <tr>\n",
              "      <th>4330</th>\n",
              "      <td>제주</td>\n",
              "      <td>전체</td>\n",
              "      <td>2019</td>\n",
              "      <td>12</td>\n",
              "      <td>3882</td>\n",
              "    </tr>\n",
              "    <tr>\n",
              "      <th>4331</th>\n",
              "      <td>제주</td>\n",
              "      <td>전용면적 60㎡이하</td>\n",
              "      <td>2019</td>\n",
              "      <td>12</td>\n",
              "      <td>NaN</td>\n",
              "    </tr>\n",
              "    <tr>\n",
              "      <th>4332</th>\n",
              "      <td>제주</td>\n",
              "      <td>전용면적 60㎡초과 85㎡이하</td>\n",
              "      <td>2019</td>\n",
              "      <td>12</td>\n",
              "      <td>3898</td>\n",
              "    </tr>\n",
              "    <tr>\n",
              "      <th>4333</th>\n",
              "      <td>제주</td>\n",
              "      <td>전용면적 85㎡초과 102㎡이하</td>\n",
              "      <td>2019</td>\n",
              "      <td>12</td>\n",
              "      <td>NaN</td>\n",
              "    </tr>\n",
              "    <tr>\n",
              "      <th>4334</th>\n",
              "      <td>제주</td>\n",
              "      <td>전용면적 102㎡초과</td>\n",
              "      <td>2019</td>\n",
              "      <td>12</td>\n",
              "      <td>3601</td>\n",
              "    </tr>\n",
              "  </tbody>\n",
              "</table>\n",
              "</div>"
            ],
            "text/plain": [
              "     지역명               규모구분    연도   월 분양가격(㎡)\n",
              "4330  제주                 전체  2019  12    3882\n",
              "4331  제주         전용면적 60㎡이하  2019  12     NaN\n",
              "4332  제주   전용면적 60㎡초과 85㎡이하  2019  12    3898\n",
              "4333  제주  전용면적 85㎡초과 102㎡이하  2019  12     NaN\n",
              "4334  제주        전용면적 102㎡초과  2019  12    3601"
            ]
          },
          "metadata": {},
          "execution_count": 11
        }
      ]
    },
    {
      "cell_type": "code",
      "metadata": {
        "colab": {
          "base_uri": "https://localhost:8080/"
        },
        "id": "Dr1Ed6NscD9d",
        "outputId": "13825dfd-9647-473f-d9a6-332f1aac0cac"
      },
      "source": [
        "# 2013년 9월 ~ 2015년 8월 까지 데이터 로드\n",
        "df_first = pd.read_csv('/content/gdrive/MyDrive/Colab Notebooks/inflearn_공공데이터로 파이썬 데이터 분석 시작하기/전국신규민간아파트분양가격동향/전국 평균 분양가격(2013년 9월부터 2015년 8월까지).csv', encoding='cp949')\n",
        "df_first.shape"
      ],
      "execution_count": null,
      "outputs": [
        {
          "output_type": "execute_result",
          "data": {
            "text/plain": [
              "(17, 22)"
            ]
          },
          "metadata": {},
          "execution_count": 13
        }
      ]
    },
    {
      "cell_type": "code",
      "metadata": {
        "colab": {
          "base_uri": "https://localhost:8080/",
          "height": 327
        },
        "id": "P9C_6oOPcd9l",
        "outputId": "381dfcd1-c619-434a-a2fe-990f2ff7a55b"
      },
      "source": [
        "df_first.head()"
      ],
      "execution_count": null,
      "outputs": [
        {
          "output_type": "execute_result",
          "data": {
            "text/html": [
              "<div>\n",
              "<style scoped>\n",
              "    .dataframe tbody tr th:only-of-type {\n",
              "        vertical-align: middle;\n",
              "    }\n",
              "\n",
              "    .dataframe tbody tr th {\n",
              "        vertical-align: top;\n",
              "    }\n",
              "\n",
              "    .dataframe thead th {\n",
              "        text-align: right;\n",
              "    }\n",
              "</style>\n",
              "<table border=\"1\" class=\"dataframe\">\n",
              "  <thead>\n",
              "    <tr style=\"text-align: right;\">\n",
              "      <th></th>\n",
              "      <th>지역</th>\n",
              "      <th>2013년12월</th>\n",
              "      <th>2014년1월</th>\n",
              "      <th>2014년2월</th>\n",
              "      <th>2014년3월</th>\n",
              "      <th>2014년4월</th>\n",
              "      <th>2014년5월</th>\n",
              "      <th>2014년6월</th>\n",
              "      <th>2014년7월</th>\n",
              "      <th>2014년8월</th>\n",
              "      <th>2014년9월</th>\n",
              "      <th>2014년10월</th>\n",
              "      <th>2014년11월</th>\n",
              "      <th>2014년12월</th>\n",
              "      <th>2015년1월</th>\n",
              "      <th>2015년2월</th>\n",
              "      <th>2015년3월</th>\n",
              "      <th>2015년4월</th>\n",
              "      <th>2015년5월</th>\n",
              "      <th>2015년6월</th>\n",
              "      <th>2015년7월</th>\n",
              "      <th>2015년8월</th>\n",
              "    </tr>\n",
              "  </thead>\n",
              "  <tbody>\n",
              "    <tr>\n",
              "      <th>0</th>\n",
              "      <td>서울</td>\n",
              "      <td>18189</td>\n",
              "      <td>17925</td>\n",
              "      <td>17925</td>\n",
              "      <td>18016</td>\n",
              "      <td>18098</td>\n",
              "      <td>19446</td>\n",
              "      <td>18867</td>\n",
              "      <td>18742</td>\n",
              "      <td>19274</td>\n",
              "      <td>19404</td>\n",
              "      <td>19759</td>\n",
              "      <td>20242</td>\n",
              "      <td>20269</td>\n",
              "      <td>20670</td>\n",
              "      <td>20670</td>\n",
              "      <td>19415</td>\n",
              "      <td>18842</td>\n",
              "      <td>18367</td>\n",
              "      <td>18374</td>\n",
              "      <td>18152</td>\n",
              "      <td>18443</td>\n",
              "    </tr>\n",
              "    <tr>\n",
              "      <th>1</th>\n",
              "      <td>부산</td>\n",
              "      <td>8111</td>\n",
              "      <td>8111</td>\n",
              "      <td>9078</td>\n",
              "      <td>8965</td>\n",
              "      <td>9402</td>\n",
              "      <td>9501</td>\n",
              "      <td>9453</td>\n",
              "      <td>9457</td>\n",
              "      <td>9411</td>\n",
              "      <td>9258</td>\n",
              "      <td>9110</td>\n",
              "      <td>9208</td>\n",
              "      <td>9208</td>\n",
              "      <td>9204</td>\n",
              "      <td>9235</td>\n",
              "      <td>9279</td>\n",
              "      <td>9327</td>\n",
              "      <td>9345</td>\n",
              "      <td>9515</td>\n",
              "      <td>9559</td>\n",
              "      <td>9581</td>\n",
              "    </tr>\n",
              "    <tr>\n",
              "      <th>2</th>\n",
              "      <td>대구</td>\n",
              "      <td>8080</td>\n",
              "      <td>8080</td>\n",
              "      <td>8077</td>\n",
              "      <td>8101</td>\n",
              "      <td>8267</td>\n",
              "      <td>8274</td>\n",
              "      <td>8360</td>\n",
              "      <td>8360</td>\n",
              "      <td>8370</td>\n",
              "      <td>8449</td>\n",
              "      <td>8403</td>\n",
              "      <td>8439</td>\n",
              "      <td>8253</td>\n",
              "      <td>8327</td>\n",
              "      <td>8416</td>\n",
              "      <td>8441</td>\n",
              "      <td>8446</td>\n",
              "      <td>8568</td>\n",
              "      <td>8542</td>\n",
              "      <td>8542</td>\n",
              "      <td>8795</td>\n",
              "    </tr>\n",
              "    <tr>\n",
              "      <th>3</th>\n",
              "      <td>인천</td>\n",
              "      <td>10204</td>\n",
              "      <td>10204</td>\n",
              "      <td>10408</td>\n",
              "      <td>10408</td>\n",
              "      <td>10000</td>\n",
              "      <td>9844</td>\n",
              "      <td>10058</td>\n",
              "      <td>9974</td>\n",
              "      <td>9973</td>\n",
              "      <td>9973</td>\n",
              "      <td>10016</td>\n",
              "      <td>10020</td>\n",
              "      <td>10020</td>\n",
              "      <td>10017</td>\n",
              "      <td>9876</td>\n",
              "      <td>9876</td>\n",
              "      <td>9938</td>\n",
              "      <td>10551</td>\n",
              "      <td>10443</td>\n",
              "      <td>10443</td>\n",
              "      <td>10449</td>\n",
              "    </tr>\n",
              "    <tr>\n",
              "      <th>4</th>\n",
              "      <td>광주</td>\n",
              "      <td>6098</td>\n",
              "      <td>7326</td>\n",
              "      <td>7611</td>\n",
              "      <td>7346</td>\n",
              "      <td>7346</td>\n",
              "      <td>7523</td>\n",
              "      <td>7659</td>\n",
              "      <td>7612</td>\n",
              "      <td>7622</td>\n",
              "      <td>7802</td>\n",
              "      <td>7707</td>\n",
              "      <td>7752</td>\n",
              "      <td>7748</td>\n",
              "      <td>7752</td>\n",
              "      <td>7756</td>\n",
              "      <td>7861</td>\n",
              "      <td>7914</td>\n",
              "      <td>7877</td>\n",
              "      <td>7881</td>\n",
              "      <td>8089</td>\n",
              "      <td>8231</td>\n",
              "    </tr>\n",
              "  </tbody>\n",
              "</table>\n",
              "</div>"
            ],
            "text/plain": [
              "   지역  2013년12월  2014년1월  2014년2월  ...  2015년5월  2015년6월  2015년7월  2015년8월\n",
              "0  서울     18189    17925    17925  ...    18367    18374    18152    18443\n",
              "1  부산      8111     8111     9078  ...     9345     9515     9559     9581\n",
              "2  대구      8080     8080     8077  ...     8568     8542     8542     8795\n",
              "3  인천     10204    10204    10408  ...    10551    10443    10443    10449\n",
              "4  광주      6098     7326     7611  ...     7877     7881     8089     8231\n",
              "\n",
              "[5 rows x 22 columns]"
            ]
          },
          "metadata": {},
          "execution_count": 16
        }
      ]
    },
    {
      "cell_type": "code",
      "metadata": {
        "colab": {
          "base_uri": "https://localhost:8080/",
          "height": 327
        },
        "id": "qFkUWQGJchUe",
        "outputId": "2c72cbfc-64ed-4244-ace0-0729575bb028"
      },
      "source": [
        "df_first.tail()"
      ],
      "execution_count": null,
      "outputs": [
        {
          "output_type": "execute_result",
          "data": {
            "text/html": [
              "<div>\n",
              "<style scoped>\n",
              "    .dataframe tbody tr th:only-of-type {\n",
              "        vertical-align: middle;\n",
              "    }\n",
              "\n",
              "    .dataframe tbody tr th {\n",
              "        vertical-align: top;\n",
              "    }\n",
              "\n",
              "    .dataframe thead th {\n",
              "        text-align: right;\n",
              "    }\n",
              "</style>\n",
              "<table border=\"1\" class=\"dataframe\">\n",
              "  <thead>\n",
              "    <tr style=\"text-align: right;\">\n",
              "      <th></th>\n",
              "      <th>지역</th>\n",
              "      <th>2013년12월</th>\n",
              "      <th>2014년1월</th>\n",
              "      <th>2014년2월</th>\n",
              "      <th>2014년3월</th>\n",
              "      <th>2014년4월</th>\n",
              "      <th>2014년5월</th>\n",
              "      <th>2014년6월</th>\n",
              "      <th>2014년7월</th>\n",
              "      <th>2014년8월</th>\n",
              "      <th>2014년9월</th>\n",
              "      <th>2014년10월</th>\n",
              "      <th>2014년11월</th>\n",
              "      <th>2014년12월</th>\n",
              "      <th>2015년1월</th>\n",
              "      <th>2015년2월</th>\n",
              "      <th>2015년3월</th>\n",
              "      <th>2015년4월</th>\n",
              "      <th>2015년5월</th>\n",
              "      <th>2015년6월</th>\n",
              "      <th>2015년7월</th>\n",
              "      <th>2015년8월</th>\n",
              "    </tr>\n",
              "  </thead>\n",
              "  <tbody>\n",
              "    <tr>\n",
              "      <th>12</th>\n",
              "      <td>전북</td>\n",
              "      <td>6282</td>\n",
              "      <td>6281</td>\n",
              "      <td>5946</td>\n",
              "      <td>5966</td>\n",
              "      <td>6277</td>\n",
              "      <td>6306</td>\n",
              "      <td>6351</td>\n",
              "      <td>6319</td>\n",
              "      <td>6436</td>\n",
              "      <td>6719</td>\n",
              "      <td>6581</td>\n",
              "      <td>6583</td>\n",
              "      <td>6583</td>\n",
              "      <td>6583</td>\n",
              "      <td>6583</td>\n",
              "      <td>6542</td>\n",
              "      <td>6551</td>\n",
              "      <td>6556</td>\n",
              "      <td>6601</td>\n",
              "      <td>6750</td>\n",
              "      <td>6580</td>\n",
              "    </tr>\n",
              "    <tr>\n",
              "      <th>13</th>\n",
              "      <td>전남</td>\n",
              "      <td>5678</td>\n",
              "      <td>5678</td>\n",
              "      <td>5678</td>\n",
              "      <td>5696</td>\n",
              "      <td>5736</td>\n",
              "      <td>5656</td>\n",
              "      <td>5609</td>\n",
              "      <td>5780</td>\n",
              "      <td>5685</td>\n",
              "      <td>5804</td>\n",
              "      <td>5753</td>\n",
              "      <td>5768</td>\n",
              "      <td>5784</td>\n",
              "      <td>5784</td>\n",
              "      <td>5833</td>\n",
              "      <td>5825</td>\n",
              "      <td>5940</td>\n",
              "      <td>6050</td>\n",
              "      <td>6243</td>\n",
              "      <td>6286</td>\n",
              "      <td>6289</td>\n",
              "    </tr>\n",
              "    <tr>\n",
              "      <th>14</th>\n",
              "      <td>경북</td>\n",
              "      <td>6168</td>\n",
              "      <td>6168</td>\n",
              "      <td>6234</td>\n",
              "      <td>6317</td>\n",
              "      <td>6412</td>\n",
              "      <td>6409</td>\n",
              "      <td>6554</td>\n",
              "      <td>6556</td>\n",
              "      <td>6563</td>\n",
              "      <td>6577</td>\n",
              "      <td>6778</td>\n",
              "      <td>6881</td>\n",
              "      <td>6989</td>\n",
              "      <td>6992</td>\n",
              "      <td>6953</td>\n",
              "      <td>6997</td>\n",
              "      <td>7006</td>\n",
              "      <td>6966</td>\n",
              "      <td>6887</td>\n",
              "      <td>7035</td>\n",
              "      <td>7037</td>\n",
              "    </tr>\n",
              "    <tr>\n",
              "      <th>15</th>\n",
              "      <td>경남</td>\n",
              "      <td>6473</td>\n",
              "      <td>6485</td>\n",
              "      <td>6502</td>\n",
              "      <td>6610</td>\n",
              "      <td>6599</td>\n",
              "      <td>6610</td>\n",
              "      <td>6615</td>\n",
              "      <td>6613</td>\n",
              "      <td>6606</td>\n",
              "      <td>6767</td>\n",
              "      <td>6881</td>\n",
              "      <td>7125</td>\n",
              "      <td>7332</td>\n",
              "      <td>7592</td>\n",
              "      <td>7588</td>\n",
              "      <td>7668</td>\n",
              "      <td>7683</td>\n",
              "      <td>7717</td>\n",
              "      <td>7715</td>\n",
              "      <td>7723</td>\n",
              "      <td>7665</td>\n",
              "    </tr>\n",
              "    <tr>\n",
              "      <th>16</th>\n",
              "      <td>제주</td>\n",
              "      <td>7674</td>\n",
              "      <td>7900</td>\n",
              "      <td>7900</td>\n",
              "      <td>7900</td>\n",
              "      <td>7900</td>\n",
              "      <td>7900</td>\n",
              "      <td>7914</td>\n",
              "      <td>7914</td>\n",
              "      <td>7914</td>\n",
              "      <td>7833</td>\n",
              "      <td>7724</td>\n",
              "      <td>7724</td>\n",
              "      <td>7739</td>\n",
              "      <td>7739</td>\n",
              "      <td>7739</td>\n",
              "      <td>7826</td>\n",
              "      <td>7285</td>\n",
              "      <td>7285</td>\n",
              "      <td>7343</td>\n",
              "      <td>7343</td>\n",
              "      <td>7343</td>\n",
              "    </tr>\n",
              "  </tbody>\n",
              "</table>\n",
              "</div>"
            ],
            "text/plain": [
              "    지역  2013년12월  2014년1월  2014년2월  ...  2015년5월  2015년6월  2015년7월  2015년8월\n",
              "12  전북      6282     6281     5946  ...     6556     6601     6750     6580\n",
              "13  전남      5678     5678     5678  ...     6050     6243     6286     6289\n",
              "14  경북      6168     6168     6234  ...     6966     6887     7035     7037\n",
              "15  경남      6473     6485     6502  ...     7717     7715     7723     7665\n",
              "16  제주      7674     7900     7900  ...     7285     7343     7343     7343\n",
              "\n",
              "[5 rows x 22 columns]"
            ]
          },
          "metadata": {},
          "execution_count": 15
        }
      ]
    },
    {
      "cell_type": "markdown",
      "metadata": {
        "id": "5RQUbg3gi4T9"
      },
      "source": [
        "### 데이터 정보 요약"
      ]
    },
    {
      "cell_type": "code",
      "metadata": {
        "colab": {
          "base_uri": "https://localhost:8080/"
        },
        "id": "d3DAgKm4cjYR",
        "outputId": "5ea9277d-525f-4de8-b5ad-00bc8b87557d"
      },
      "source": [
        "df_last.info()"
      ],
      "execution_count": null,
      "outputs": [
        {
          "output_type": "stream",
          "name": "stdout",
          "text": [
            "<class 'pandas.core.frame.DataFrame'>\n",
            "RangeIndex: 4335 entries, 0 to 4334\n",
            "Data columns (total 5 columns):\n",
            " #   Column   Non-Null Count  Dtype \n",
            "---  ------   --------------  ----- \n",
            " 0   지역명      4335 non-null   object\n",
            " 1   규모구분     4335 non-null   object\n",
            " 2   연도       4335 non-null   int64 \n",
            " 3   월        4335 non-null   int64 \n",
            " 4   분양가격(㎡)  4058 non-null   object\n",
            "dtypes: int64(2), object(3)\n",
            "memory usage: 169.5+ KB\n"
          ]
        }
      ]
    },
    {
      "cell_type": "code",
      "metadata": {
        "colab": {
          "base_uri": "https://localhost:8080/"
        },
        "id": "fQpgaF3fdL_4",
        "outputId": "863d89eb-d334-4a7c-d569-c05374b2bad4"
      },
      "source": [
        "df_last.isnull().sum()"
      ],
      "execution_count": null,
      "outputs": [
        {
          "output_type": "execute_result",
          "data": {
            "text/plain": [
              "지역명          0\n",
              "규모구분         0\n",
              "연도           0\n",
              "월            0\n",
              "분양가격(㎡)    277\n",
              "dtype: int64"
            ]
          },
          "metadata": {},
          "execution_count": 19
        }
      ]
    },
    {
      "cell_type": "code",
      "metadata": {
        "colab": {
          "base_uri": "https://localhost:8080/"
        },
        "id": "8PEhJesXdqcm",
        "outputId": "9e6efa58-ceb7-426b-c580-edfeb58990cd"
      },
      "source": [
        "df_last.isna().sum()"
      ],
      "execution_count": null,
      "outputs": [
        {
          "output_type": "execute_result",
          "data": {
            "text/plain": [
              "지역명          0\n",
              "규모구분         0\n",
              "연도           0\n",
              "월            0\n",
              "분양가격(㎡)    277\n",
              "dtype: int64"
            ]
          },
          "metadata": {},
          "execution_count": 20
        }
      ]
    },
    {
      "cell_type": "markdown",
      "metadata": {
        "id": "VWBXjKKejFs6"
      },
      "source": [
        "### 데이터 타입 변경\n",
        "분양가격이 object(문자) 타입으로 되어 있습니다. 문자열 타입을 계산할 수 없기 때문에 수치 데이터로 변경해 줍니다. 결측치가 섞여 있을 때 변환이 제대로 되지 않습니다. 그래서 pd.to_numeric 을 통해 데이터의 타입을 변경합니다."
      ]
    },
    {
      "cell_type": "code",
      "metadata": {
        "colab": {
          "base_uri": "https://localhost:8080/"
        },
        "id": "W7Yko3AteEeF",
        "outputId": "bf7b7160-23fc-4b0f-91ba-631ae503f7db"
      },
      "source": [
        "df_last[\"분양가격\"] = pd.to_numeric(df_last[\"분양가격(㎡)\"], errors='coerce')\n",
        "df_last[\"분양가격\"]"
      ],
      "execution_count": null,
      "outputs": [
        {
          "output_type": "execute_result",
          "data": {
            "text/plain": [
              "0       5841.0\n",
              "1       5652.0\n",
              "2       5882.0\n",
              "3       5721.0\n",
              "4       5879.0\n",
              "         ...  \n",
              "4330    3882.0\n",
              "4331       NaN\n",
              "4332    3898.0\n",
              "4333       NaN\n",
              "4334    3601.0\n",
              "Name: 분양가격, Length: 4335, dtype: float64"
            ]
          },
          "metadata": {},
          "execution_count": 29
        }
      ]
    },
    {
      "cell_type": "markdown",
      "metadata": {
        "id": "gjvhMaOWju4h"
      },
      "source": [
        "### 평당분양가격 구하기\n",
        "공공데이터포털에 올라와 있는 2013년부터의 데이터는 평당분양가격 기준으로 되어 있습니다.\n",
        "분양가격을 평당기준으로 보기위해 3.3을 곱해서 \"평당분양가격\" 컬럼을 만들어 추가해 줍니다."
      ]
    },
    {
      "cell_type": "code",
      "metadata": {
        "colab": {
          "base_uri": "https://localhost:8080/",
          "height": 423
        },
        "id": "4-qalJZReXZB",
        "outputId": "77f7f01a-41c1-40f4-987c-2ce09766bc36"
      },
      "source": [
        "df_last[\"평당분양가격\"] = df_last[\"분양가격\"]*3.3\n",
        "df_last"
      ],
      "execution_count": null,
      "outputs": [
        {
          "output_type": "execute_result",
          "data": {
            "text/html": [
              "<div>\n",
              "<style scoped>\n",
              "    .dataframe tbody tr th:only-of-type {\n",
              "        vertical-align: middle;\n",
              "    }\n",
              "\n",
              "    .dataframe tbody tr th {\n",
              "        vertical-align: top;\n",
              "    }\n",
              "\n",
              "    .dataframe thead th {\n",
              "        text-align: right;\n",
              "    }\n",
              "</style>\n",
              "<table border=\"1\" class=\"dataframe\">\n",
              "  <thead>\n",
              "    <tr style=\"text-align: right;\">\n",
              "      <th></th>\n",
              "      <th>지역명</th>\n",
              "      <th>규모구분</th>\n",
              "      <th>연도</th>\n",
              "      <th>월</th>\n",
              "      <th>분양가격(㎡)</th>\n",
              "      <th>분양가격</th>\n",
              "      <th>평당분양가격</th>\n",
              "    </tr>\n",
              "  </thead>\n",
              "  <tbody>\n",
              "    <tr>\n",
              "      <th>0</th>\n",
              "      <td>서울</td>\n",
              "      <td>전체</td>\n",
              "      <td>2015</td>\n",
              "      <td>10</td>\n",
              "      <td>5841</td>\n",
              "      <td>5841.0</td>\n",
              "      <td>19275.3</td>\n",
              "    </tr>\n",
              "    <tr>\n",
              "      <th>1</th>\n",
              "      <td>서울</td>\n",
              "      <td>전용면적 60㎡이하</td>\n",
              "      <td>2015</td>\n",
              "      <td>10</td>\n",
              "      <td>5652</td>\n",
              "      <td>5652.0</td>\n",
              "      <td>18651.6</td>\n",
              "    </tr>\n",
              "    <tr>\n",
              "      <th>2</th>\n",
              "      <td>서울</td>\n",
              "      <td>전용면적 60㎡초과 85㎡이하</td>\n",
              "      <td>2015</td>\n",
              "      <td>10</td>\n",
              "      <td>5882</td>\n",
              "      <td>5882.0</td>\n",
              "      <td>19410.6</td>\n",
              "    </tr>\n",
              "    <tr>\n",
              "      <th>3</th>\n",
              "      <td>서울</td>\n",
              "      <td>전용면적 85㎡초과 102㎡이하</td>\n",
              "      <td>2015</td>\n",
              "      <td>10</td>\n",
              "      <td>5721</td>\n",
              "      <td>5721.0</td>\n",
              "      <td>18879.3</td>\n",
              "    </tr>\n",
              "    <tr>\n",
              "      <th>4</th>\n",
              "      <td>서울</td>\n",
              "      <td>전용면적 102㎡초과</td>\n",
              "      <td>2015</td>\n",
              "      <td>10</td>\n",
              "      <td>5879</td>\n",
              "      <td>5879.0</td>\n",
              "      <td>19400.7</td>\n",
              "    </tr>\n",
              "    <tr>\n",
              "      <th>...</th>\n",
              "      <td>...</td>\n",
              "      <td>...</td>\n",
              "      <td>...</td>\n",
              "      <td>...</td>\n",
              "      <td>...</td>\n",
              "      <td>...</td>\n",
              "      <td>...</td>\n",
              "    </tr>\n",
              "    <tr>\n",
              "      <th>4330</th>\n",
              "      <td>제주</td>\n",
              "      <td>전체</td>\n",
              "      <td>2019</td>\n",
              "      <td>12</td>\n",
              "      <td>3882</td>\n",
              "      <td>3882.0</td>\n",
              "      <td>12810.6</td>\n",
              "    </tr>\n",
              "    <tr>\n",
              "      <th>4331</th>\n",
              "      <td>제주</td>\n",
              "      <td>전용면적 60㎡이하</td>\n",
              "      <td>2019</td>\n",
              "      <td>12</td>\n",
              "      <td>NaN</td>\n",
              "      <td>NaN</td>\n",
              "      <td>NaN</td>\n",
              "    </tr>\n",
              "    <tr>\n",
              "      <th>4332</th>\n",
              "      <td>제주</td>\n",
              "      <td>전용면적 60㎡초과 85㎡이하</td>\n",
              "      <td>2019</td>\n",
              "      <td>12</td>\n",
              "      <td>3898</td>\n",
              "      <td>3898.0</td>\n",
              "      <td>12863.4</td>\n",
              "    </tr>\n",
              "    <tr>\n",
              "      <th>4333</th>\n",
              "      <td>제주</td>\n",
              "      <td>전용면적 85㎡초과 102㎡이하</td>\n",
              "      <td>2019</td>\n",
              "      <td>12</td>\n",
              "      <td>NaN</td>\n",
              "      <td>NaN</td>\n",
              "      <td>NaN</td>\n",
              "    </tr>\n",
              "    <tr>\n",
              "      <th>4334</th>\n",
              "      <td>제주</td>\n",
              "      <td>전용면적 102㎡초과</td>\n",
              "      <td>2019</td>\n",
              "      <td>12</td>\n",
              "      <td>3601</td>\n",
              "      <td>3601.0</td>\n",
              "      <td>11883.3</td>\n",
              "    </tr>\n",
              "  </tbody>\n",
              "</table>\n",
              "<p>4335 rows × 7 columns</p>\n",
              "</div>"
            ],
            "text/plain": [
              "     지역명               규모구분    연도   월 분양가격(㎡)    분양가격   평당분양가격\n",
              "0     서울                 전체  2015  10    5841  5841.0  19275.3\n",
              "1     서울         전용면적 60㎡이하  2015  10    5652  5652.0  18651.6\n",
              "2     서울   전용면적 60㎡초과 85㎡이하  2015  10    5882  5882.0  19410.6\n",
              "3     서울  전용면적 85㎡초과 102㎡이하  2015  10    5721  5721.0  18879.3\n",
              "4     서울        전용면적 102㎡초과  2015  10    5879  5879.0  19400.7\n",
              "...   ..                ...   ...  ..     ...     ...      ...\n",
              "4330  제주                 전체  2019  12    3882  3882.0  12810.6\n",
              "4331  제주         전용면적 60㎡이하  2019  12     NaN     NaN      NaN\n",
              "4332  제주   전용면적 60㎡초과 85㎡이하  2019  12    3898  3898.0  12863.4\n",
              "4333  제주  전용면적 85㎡초과 102㎡이하  2019  12     NaN     NaN      NaN\n",
              "4334  제주        전용면적 102㎡초과  2019  12    3601  3601.0  11883.3\n",
              "\n",
              "[4335 rows x 7 columns]"
            ]
          },
          "metadata": {},
          "execution_count": 31
        }
      ]
    },
    {
      "cell_type": "markdown",
      "metadata": {
        "id": "i9CdXutEjo6v"
      },
      "source": [
        "### 분양가격 요약하기"
      ]
    },
    {
      "cell_type": "code",
      "metadata": {
        "colab": {
          "base_uri": "https://localhost:8080/"
        },
        "id": "Yn0Fe0Vofs8f",
        "outputId": "385e3433-3623-415d-be4b-d280ae32e994"
      },
      "source": [
        "df_last.info()"
      ],
      "execution_count": null,
      "outputs": [
        {
          "output_type": "stream",
          "name": "stdout",
          "text": [
            "<class 'pandas.core.frame.DataFrame'>\n",
            "RangeIndex: 4335 entries, 0 to 4334\n",
            "Data columns (total 7 columns):\n",
            " #   Column   Non-Null Count  Dtype  \n",
            "---  ------   --------------  -----  \n",
            " 0   지역명      4335 non-null   object \n",
            " 1   규모구분     4335 non-null   object \n",
            " 2   연도       4335 non-null   int64  \n",
            " 3   월        4335 non-null   int64  \n",
            " 4   분양가격(㎡)  4058 non-null   object \n",
            " 5   분양가격     3957 non-null   float64\n",
            " 6   평당분양가격   3957 non-null   float64\n",
            "dtypes: float64(2), int64(2), object(3)\n",
            "memory usage: 237.2+ KB\n"
          ]
        }
      ]
    },
    {
      "cell_type": "code",
      "metadata": {
        "colab": {
          "base_uri": "https://localhost:8080/"
        },
        "id": "frq_r8wekFyW",
        "outputId": "21dc722e-1c9b-4882-e0b6-df066aa890dc"
      },
      "source": [
        "#top: 가장 빈번하게 등장하는 문자\n",
        "#freq: 가장 빈번하게 등장하는 문자의 등장 횟수\n",
        "df_last[\"분양가격(㎡)\"].describe()"
      ],
      "execution_count": null,
      "outputs": [
        {
          "output_type": "execute_result",
          "data": {
            "text/plain": [
              "count     4058\n",
              "unique    1753\n",
              "top       2221\n",
              "freq        17\n",
              "Name: 분양가격(㎡), dtype: object"
            ]
          },
          "metadata": {},
          "execution_count": 34
        }
      ]
    },
    {
      "cell_type": "code",
      "metadata": {
        "colab": {
          "base_uri": "https://localhost:8080/"
        },
        "id": "jTGx0rQ2kQgK",
        "outputId": "5ddcd567-e63d-4e79-bce1-321643759548"
      },
      "source": [
        "#카운트가 다른 이유는 문자는 공백도 카운트하지만 숫자는 공백은 카운트하지 않는다\n",
        "df_last[\"분양가격\"].describe()"
      ],
      "execution_count": null,
      "outputs": [
        {
          "output_type": "execute_result",
          "data": {
            "text/plain": [
              "count     3957.000000\n",
              "mean      3238.128633\n",
              "std       1264.309933\n",
              "min       1868.000000\n",
              "25%       2441.000000\n",
              "50%       2874.000000\n",
              "75%       3561.000000\n",
              "max      12728.000000\n",
              "Name: 분양가격, dtype: float64"
            ]
          },
          "metadata": {},
          "execution_count": 35
        }
      ]
    },
    {
      "cell_type": "markdown",
      "metadata": {
        "id": "YgVEQ_B-lfBf"
      },
      "source": [
        "### 규모구분을 전용면적 컬럼으로 변경\n",
        "규모구분 컬럼은 전용면적에 대한 내용이 있습니다. 전용면적이라는 문구가 공통적으로 들어가고 규모구분보다는 전용면적이 좀 더 직관적이기 때문에 전용면적이라는 컬럼을 새로 만들어주고 기존 규모구분의 값에서 전용면적, 초과, 이하 등의 문구를 빼고 간결하게 만들어 봅니다.\n",
        "\n",
        "이 때 str 의 replace 기능을 사용해서 예를들면 \"전용면적 60㎡초과 85㎡이하\"라면 \"60㎡~85㎡\" 로 변경해 줍니다."
      ]
    },
    {
      "cell_type": "code",
      "metadata": {
        "colab": {
          "base_uri": "https://localhost:8080/"
        },
        "id": "Tr-Cjb3XkVes",
        "outputId": "63e540fd-5df8-4f74-af95-bb450308094e"
      },
      "source": [
        "df_last[\"규모구분\"].unique()"
      ],
      "execution_count": null,
      "outputs": [
        {
          "output_type": "execute_result",
          "data": {
            "text/plain": [
              "array(['전체', '전용면적 60㎡이하', '전용면적 60㎡초과 85㎡이하', '전용면적 85㎡초과 102㎡이하',\n",
              "       '전용면적 102㎡초과'], dtype=object)"
            ]
          },
          "metadata": {},
          "execution_count": 36
        }
      ]
    },
    {
      "cell_type": "code",
      "metadata": {
        "colab": {
          "base_uri": "https://localhost:8080/"
        },
        "id": "Ncu8rcBelr1z",
        "outputId": "e0221453-4f66-4311-c323-2cfe64150750"
      },
      "source": [
        "df_last[\"전용면적\"] = df_last[\"규모구분\"].str.replace(\"전용면적\", \"\")\n",
        "df_last[\"전용면적\"] = df_last[\"전용면적\"].str.replace(\"초과\", \"~\")\n",
        "df_last[\"전용면적\"] = df_last[\"전용면적\"].str.replace(\"이하\", \"\")\n",
        "df_last[\"전용면적\"] = df_last[\"전용면적\"].str.replace(\" \", \"\").str.strip()\n",
        "df_last[\"전용면적\"]"
      ],
      "execution_count": null,
      "outputs": [
        {
          "output_type": "execute_result",
          "data": {
            "text/plain": [
              "0             전체\n",
              "1            60㎡\n",
              "2        60㎡~85㎡\n",
              "3       85㎡~102㎡\n",
              "4          102㎡~\n",
              "          ...   \n",
              "4330          전체\n",
              "4331         60㎡\n",
              "4332     60㎡~85㎡\n",
              "4333    85㎡~102㎡\n",
              "4334       102㎡~\n",
              "Name: 전용면적, Length: 4335, dtype: object"
            ]
          },
          "metadata": {},
          "execution_count": 43
        }
      ]
    },
    {
      "cell_type": "markdown",
      "metadata": {
        "id": "wbGXkQdeoaUy"
      },
      "source": [
        "### 필요없는 컬럼 제거하기\n",
        "drop을 통해 전처리 해준 컬럼을 제거합니다. pandas의 데이터프레임과 관련된 메소드에는 axis 옵션이 필요할 때가 있는데 행과 열중 어떤 기준으로 처리를 할 것인지를 의미합니다. 보통 기본적으로 0으로 되어 있고 행을 기준으로 처리함을 의미합니다. 메모리 사용량이 줄어들었는지 확인합니다."
      ]
    },
    {
      "cell_type": "code",
      "metadata": {
        "colab": {
          "base_uri": "https://localhost:8080/",
          "height": 423
        },
        "id": "GAz8gJeVl_MB",
        "outputId": "7eb59792-c3a7-4f7b-a8b4-120f44c5881c"
      },
      "source": [
        "#axis 0:행, 1:열\n",
        "df_last = df_last.drop([\"규모구분\", \"분양가격(㎡)\"], axis=1)\n",
        "df_last"
      ],
      "execution_count": null,
      "outputs": [
        {
          "output_type": "execute_result",
          "data": {
            "text/html": [
              "<div>\n",
              "<style scoped>\n",
              "    .dataframe tbody tr th:only-of-type {\n",
              "        vertical-align: middle;\n",
              "    }\n",
              "\n",
              "    .dataframe tbody tr th {\n",
              "        vertical-align: top;\n",
              "    }\n",
              "\n",
              "    .dataframe thead th {\n",
              "        text-align: right;\n",
              "    }\n",
              "</style>\n",
              "<table border=\"1\" class=\"dataframe\">\n",
              "  <thead>\n",
              "    <tr style=\"text-align: right;\">\n",
              "      <th></th>\n",
              "      <th>지역명</th>\n",
              "      <th>연도</th>\n",
              "      <th>월</th>\n",
              "      <th>분양가격</th>\n",
              "      <th>평당분양가격</th>\n",
              "      <th>전용면적</th>\n",
              "    </tr>\n",
              "  </thead>\n",
              "  <tbody>\n",
              "    <tr>\n",
              "      <th>0</th>\n",
              "      <td>서울</td>\n",
              "      <td>2015</td>\n",
              "      <td>10</td>\n",
              "      <td>5841.0</td>\n",
              "      <td>19275.3</td>\n",
              "      <td>전체</td>\n",
              "    </tr>\n",
              "    <tr>\n",
              "      <th>1</th>\n",
              "      <td>서울</td>\n",
              "      <td>2015</td>\n",
              "      <td>10</td>\n",
              "      <td>5652.0</td>\n",
              "      <td>18651.6</td>\n",
              "      <td>60㎡</td>\n",
              "    </tr>\n",
              "    <tr>\n",
              "      <th>2</th>\n",
              "      <td>서울</td>\n",
              "      <td>2015</td>\n",
              "      <td>10</td>\n",
              "      <td>5882.0</td>\n",
              "      <td>19410.6</td>\n",
              "      <td>60㎡~85㎡</td>\n",
              "    </tr>\n",
              "    <tr>\n",
              "      <th>3</th>\n",
              "      <td>서울</td>\n",
              "      <td>2015</td>\n",
              "      <td>10</td>\n",
              "      <td>5721.0</td>\n",
              "      <td>18879.3</td>\n",
              "      <td>85㎡~102㎡</td>\n",
              "    </tr>\n",
              "    <tr>\n",
              "      <th>4</th>\n",
              "      <td>서울</td>\n",
              "      <td>2015</td>\n",
              "      <td>10</td>\n",
              "      <td>5879.0</td>\n",
              "      <td>19400.7</td>\n",
              "      <td>102㎡~</td>\n",
              "    </tr>\n",
              "    <tr>\n",
              "      <th>...</th>\n",
              "      <td>...</td>\n",
              "      <td>...</td>\n",
              "      <td>...</td>\n",
              "      <td>...</td>\n",
              "      <td>...</td>\n",
              "      <td>...</td>\n",
              "    </tr>\n",
              "    <tr>\n",
              "      <th>4330</th>\n",
              "      <td>제주</td>\n",
              "      <td>2019</td>\n",
              "      <td>12</td>\n",
              "      <td>3882.0</td>\n",
              "      <td>12810.6</td>\n",
              "      <td>전체</td>\n",
              "    </tr>\n",
              "    <tr>\n",
              "      <th>4331</th>\n",
              "      <td>제주</td>\n",
              "      <td>2019</td>\n",
              "      <td>12</td>\n",
              "      <td>NaN</td>\n",
              "      <td>NaN</td>\n",
              "      <td>60㎡</td>\n",
              "    </tr>\n",
              "    <tr>\n",
              "      <th>4332</th>\n",
              "      <td>제주</td>\n",
              "      <td>2019</td>\n",
              "      <td>12</td>\n",
              "      <td>3898.0</td>\n",
              "      <td>12863.4</td>\n",
              "      <td>60㎡~85㎡</td>\n",
              "    </tr>\n",
              "    <tr>\n",
              "      <th>4333</th>\n",
              "      <td>제주</td>\n",
              "      <td>2019</td>\n",
              "      <td>12</td>\n",
              "      <td>NaN</td>\n",
              "      <td>NaN</td>\n",
              "      <td>85㎡~102㎡</td>\n",
              "    </tr>\n",
              "    <tr>\n",
              "      <th>4334</th>\n",
              "      <td>제주</td>\n",
              "      <td>2019</td>\n",
              "      <td>12</td>\n",
              "      <td>3601.0</td>\n",
              "      <td>11883.3</td>\n",
              "      <td>102㎡~</td>\n",
              "    </tr>\n",
              "  </tbody>\n",
              "</table>\n",
              "<p>4335 rows × 6 columns</p>\n",
              "</div>"
            ],
            "text/plain": [
              "     지역명    연도   월    분양가격   평당분양가격      전용면적\n",
              "0     서울  2015  10  5841.0  19275.3        전체\n",
              "1     서울  2015  10  5652.0  18651.6       60㎡\n",
              "2     서울  2015  10  5882.0  19410.6   60㎡~85㎡\n",
              "3     서울  2015  10  5721.0  18879.3  85㎡~102㎡\n",
              "4     서울  2015  10  5879.0  19400.7     102㎡~\n",
              "...   ..   ...  ..     ...      ...       ...\n",
              "4330  제주  2019  12  3882.0  12810.6        전체\n",
              "4331  제주  2019  12     NaN      NaN       60㎡\n",
              "4332  제주  2019  12  3898.0  12863.4   60㎡~85㎡\n",
              "4333  제주  2019  12     NaN      NaN  85㎡~102㎡\n",
              "4334  제주  2019  12  3601.0  11883.3     102㎡~\n",
              "\n",
              "[4335 rows x 6 columns]"
            ]
          },
          "metadata": {},
          "execution_count": 46
        }
      ]
    },
    {
      "cell_type": "markdown",
      "metadata": {
        "id": "lJZlhWFqoGcr"
      },
      "source": [
        "## groupby로 데이터 집계"
      ]
    },
    {
      "cell_type": "code",
      "metadata": {
        "colab": {
          "base_uri": "https://localhost:8080/"
        },
        "id": "RVyOrqfvoKKs",
        "outputId": "f4c385a0-0c28-4e95-f91c-70e98befdb74"
      },
      "source": [
        "df_last.groupby([\"지역명\"])[\"평당분양가격\"].mean()"
      ],
      "execution_count": null,
      "outputs": [
        {
          "output_type": "execute_result",
          "data": {
            "text/plain": [
              "지역명\n",
              "강원     7890.750000\n",
              "경기    13356.895200\n",
              "경남     9268.778138\n",
              "경북     8376.536515\n",
              "광주     9951.535821\n",
              "대구    11980.895455\n",
              "대전    10253.333333\n",
              "부산    12087.121200\n",
              "서울    23599.976400\n",
              "세종     9796.516456\n",
              "울산    10014.902013\n",
              "인천    11915.320732\n",
              "전남     7565.316532\n",
              "전북     7724.235484\n",
              "제주    11241.276712\n",
              "충남     8233.651883\n",
              "충북     7634.655600\n",
              "Name: 평당분양가격, dtype: float64"
            ]
          },
          "metadata": {},
          "execution_count": 49
        }
      ]
    },
    {
      "cell_type": "code",
      "metadata": {
        "colab": {
          "base_uri": "https://localhost:8080/"
        },
        "id": "0ooABsh9nC16",
        "outputId": "87a24c78-d820-4f30-b079-e7218a9abce5"
      },
      "source": [
        "df_last.groupby([\"전용면적\"])[\"평당분양가격\"].mean()"
      ],
      "execution_count": null,
      "outputs": [
        {
          "output_type": "execute_result",
          "data": {
            "text/plain": [
              "전용면적\n",
              "102㎡~       11517.705634\n",
              "60㎡         10375.137421\n",
              "60㎡~85㎡     10271.040071\n",
              "85㎡~102㎡    11097.599573\n",
              "전체          10276.086207\n",
              "Name: 평당분양가격, dtype: float64"
            ]
          },
          "metadata": {},
          "execution_count": 50
        }
      ]
    },
    {
      "cell_type": "code",
      "metadata": {
        "colab": {
          "base_uri": "https://localhost:8080/"
        },
        "id": "HsVNiw578lMv",
        "outputId": "6bb25aed-df9a-465f-b7da-9fd3494a3ae9"
      },
      "source": [
        "df_last.groupby([\"지역명\", \"전용면적\"])[\"평당분양가격\"].mean().round()"
      ],
      "execution_count": null,
      "outputs": [
        {
          "output_type": "execute_result",
          "data": {
            "text/plain": [
              "지역명  전용면적    \n",
              "강원   102㎡~       8311.0\n",
              "     60㎡         7567.0\n",
              "     60㎡~85㎡     7486.0\n",
              "     85㎡~102㎡    8750.0\n",
              "     전체          7478.0\n",
              "                  ...  \n",
              "충북   102㎡~       8195.0\n",
              "     60㎡         7103.0\n",
              "     60㎡~85㎡     7264.0\n",
              "     85㎡~102㎡    8391.0\n",
              "     전체          7219.0\n",
              "Name: 평당분양가격, Length: 85, dtype: float64"
            ]
          },
          "metadata": {},
          "execution_count": 52
        }
      ]
    },
    {
      "cell_type": "code",
      "metadata": {
        "colab": {
          "base_uri": "https://localhost:8080/",
          "height": 275
        },
        "id": "Vl9HeKzc8tSV",
        "outputId": "e685efca-8bc7-4458-88ed-892965c51e5b"
      },
      "source": [
        "df_last.groupby(['연도', '지역명'])['평당분양가격'].mean().unstack()"
      ],
      "execution_count": null,
      "outputs": [
        {
          "output_type": "execute_result",
          "data": {
            "text/html": [
              "<div>\n",
              "<style scoped>\n",
              "    .dataframe tbody tr th:only-of-type {\n",
              "        vertical-align: middle;\n",
              "    }\n",
              "\n",
              "    .dataframe tbody tr th {\n",
              "        vertical-align: top;\n",
              "    }\n",
              "\n",
              "    .dataframe thead th {\n",
              "        text-align: right;\n",
              "    }\n",
              "</style>\n",
              "<table border=\"1\" class=\"dataframe\">\n",
              "  <thead>\n",
              "    <tr style=\"text-align: right;\">\n",
              "      <th>지역명</th>\n",
              "      <th>강원</th>\n",
              "      <th>경기</th>\n",
              "      <th>경남</th>\n",
              "      <th>경북</th>\n",
              "      <th>광주</th>\n",
              "      <th>대구</th>\n",
              "      <th>대전</th>\n",
              "      <th>부산</th>\n",
              "      <th>서울</th>\n",
              "      <th>세종</th>\n",
              "      <th>울산</th>\n",
              "      <th>인천</th>\n",
              "      <th>전남</th>\n",
              "      <th>전북</th>\n",
              "      <th>제주</th>\n",
              "      <th>충남</th>\n",
              "      <th>충북</th>\n",
              "    </tr>\n",
              "    <tr>\n",
              "      <th>연도</th>\n",
              "      <th></th>\n",
              "      <th></th>\n",
              "      <th></th>\n",
              "      <th></th>\n",
              "      <th></th>\n",
              "      <th></th>\n",
              "      <th></th>\n",
              "      <th></th>\n",
              "      <th></th>\n",
              "      <th></th>\n",
              "      <th></th>\n",
              "      <th></th>\n",
              "      <th></th>\n",
              "      <th></th>\n",
              "      <th></th>\n",
              "      <th></th>\n",
              "      <th></th>\n",
              "    </tr>\n",
              "  </thead>\n",
              "  <tbody>\n",
              "    <tr>\n",
              "      <th>2015</th>\n",
              "      <td>7188.060000</td>\n",
              "      <td>11060.94</td>\n",
              "      <td>8459.220000</td>\n",
              "      <td>7464.160000</td>\n",
              "      <td>7916.700000</td>\n",
              "      <td>9018.900000</td>\n",
              "      <td>8190.600000</td>\n",
              "      <td>10377.400</td>\n",
              "      <td>20315.680</td>\n",
              "      <td>8765.020000</td>\n",
              "      <td>9367.600000</td>\n",
              "      <td>10976.020000</td>\n",
              "      <td>6798.880000</td>\n",
              "      <td>7110.400000</td>\n",
              "      <td>7951.075000</td>\n",
              "      <td>7689.880000</td>\n",
              "      <td>6828.800</td>\n",
              "    </tr>\n",
              "    <tr>\n",
              "      <th>2016</th>\n",
              "      <td>7162.903846</td>\n",
              "      <td>11684.97</td>\n",
              "      <td>8496.730000</td>\n",
              "      <td>7753.405000</td>\n",
              "      <td>9190.683333</td>\n",
              "      <td>10282.030000</td>\n",
              "      <td>8910.733333</td>\n",
              "      <td>10743.535</td>\n",
              "      <td>21753.435</td>\n",
              "      <td>8857.805000</td>\n",
              "      <td>9582.574138</td>\n",
              "      <td>11099.055000</td>\n",
              "      <td>6936.600000</td>\n",
              "      <td>6906.625000</td>\n",
              "      <td>9567.480000</td>\n",
              "      <td>7958.225000</td>\n",
              "      <td>7133.335</td>\n",
              "    </tr>\n",
              "    <tr>\n",
              "      <th>2017</th>\n",
              "      <td>7273.560000</td>\n",
              "      <td>12304.98</td>\n",
              "      <td>8786.760000</td>\n",
              "      <td>8280.800000</td>\n",
              "      <td>9613.977551</td>\n",
              "      <td>12206.700000</td>\n",
              "      <td>9957.158491</td>\n",
              "      <td>11560.680</td>\n",
              "      <td>21831.060</td>\n",
              "      <td>9132.505556</td>\n",
              "      <td>10666.935714</td>\n",
              "      <td>11640.600000</td>\n",
              "      <td>7372.920000</td>\n",
              "      <td>7398.973585</td>\n",
              "      <td>12566.730000</td>\n",
              "      <td>8198.422222</td>\n",
              "      <td>7473.120</td>\n",
              "    </tr>\n",
              "    <tr>\n",
              "      <th>2018</th>\n",
              "      <td>8219.255000</td>\n",
              "      <td>14258.42</td>\n",
              "      <td>9327.670000</td>\n",
              "      <td>8680.776923</td>\n",
              "      <td>9526.953333</td>\n",
              "      <td>12139.252632</td>\n",
              "      <td>10234.106667</td>\n",
              "      <td>12889.965</td>\n",
              "      <td>23202.245</td>\n",
              "      <td>10340.463158</td>\n",
              "      <td>10241.400000</td>\n",
              "      <td>11881.532143</td>\n",
              "      <td>7929.845000</td>\n",
              "      <td>8174.595000</td>\n",
              "      <td>11935.968000</td>\n",
              "      <td>8201.820000</td>\n",
              "      <td>8149.295</td>\n",
              "    </tr>\n",
              "    <tr>\n",
              "      <th>2019</th>\n",
              "      <td>8934.475000</td>\n",
              "      <td>15665.54</td>\n",
              "      <td>10697.615789</td>\n",
              "      <td>9050.250000</td>\n",
              "      <td>12111.675000</td>\n",
              "      <td>14081.650000</td>\n",
              "      <td>12619.200000</td>\n",
              "      <td>13537.865</td>\n",
              "      <td>28286.830</td>\n",
              "      <td>11299.394118</td>\n",
              "      <td>10216.250000</td>\n",
              "      <td>13249.775000</td>\n",
              "      <td>8219.275862</td>\n",
              "      <td>8532.260000</td>\n",
              "      <td>11828.469231</td>\n",
              "      <td>8748.840000</td>\n",
              "      <td>7970.875</td>\n",
              "    </tr>\n",
              "  </tbody>\n",
              "</table>\n",
              "</div>"
            ],
            "text/plain": [
              "지역명            강원        경기            경남  ...            제주           충남        충북\n",
              "연도                                         ...                                     \n",
              "2015  7188.060000  11060.94   8459.220000  ...   7951.075000  7689.880000  6828.800\n",
              "2016  7162.903846  11684.97   8496.730000  ...   9567.480000  7958.225000  7133.335\n",
              "2017  7273.560000  12304.98   8786.760000  ...  12566.730000  8198.422222  7473.120\n",
              "2018  8219.255000  14258.42   9327.670000  ...  11935.968000  8201.820000  8149.295\n",
              "2019  8934.475000  15665.54  10697.615789  ...  11828.469231  8748.840000  7970.875\n",
              "\n",
              "[5 rows x 17 columns]"
            ]
          },
          "metadata": {},
          "execution_count": 54
        }
      ]
    },
    {
      "cell_type": "code",
      "metadata": {
        "id": "NEySZcsY9uff"
      },
      "source": [
        ""
      ],
      "execution_count": null,
      "outputs": []
    }
  ]
}